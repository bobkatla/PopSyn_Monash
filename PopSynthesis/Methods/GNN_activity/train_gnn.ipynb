{
 "cells": [
  {
   "cell_type": "code",
   "execution_count": 1,
   "metadata": {},
   "outputs": [],
   "source": [
    "import torch\n",
    "from PopSynthesis.Methods.GNN_activity.model import TravelGNN, train_model"
   ]
  },
  {
   "cell_type": "code",
   "execution_count": 2,
   "metadata": {},
   "outputs": [],
   "source": [
    "# Load the starting and expected graphs\n",
    "starting_graph_pyg = torch.load(\"data/start_graph.pt\")\n",
    "expected_graph_pyg = torch.load(\"data/expected_graph.pt\")"
   ]
  },
  {
   "cell_type": "code",
   "execution_count": 3,
   "metadata": {},
   "outputs": [],
   "source": [
    "model = TravelGNN(hidden_channels=64)\n",
    "optimizer = torch.optim.Adam(model.parameters(), lr=0.005)\n",
    "\n",
    "criterion_edge = torch.nn.BCEWithLogitsLoss()\n",
    "criterion_duration = torch.nn.MSELoss()\n",
    "criterion_joint = torch.nn.BCEWithLogitsLoss()\n",
    "\n",
    "data = expected_graph_pyg.to('cpu')"
   ]
  },
  {
   "cell_type": "code",
   "execution_count": 4,
   "metadata": {},
   "outputs": [
    {
     "name": "stdout",
     "output_type": "stream",
     "text": [
      "Epoch 0: Total Loss=402.1098, Edge=1.2738, Duration=394.9019, Joint=5.9342\n",
      "Epoch 5: Total Loss=16.3306, Edge=0.8216, Duration=14.5203, Joint=0.9887\n",
      "Epoch 10: Total Loss=39.0285, Edge=0.7106, Duration=36.8875, Joint=1.4304\n",
      "Epoch 15: Total Loss=14.6816, Edge=0.6647, Duration=12.9781, Joint=1.0388\n",
      "Epoch 20: Total Loss=5.4867, Edge=0.7023, Duration=4.0806, Joint=0.7037\n",
      "Epoch 25: Total Loss=5.0713, Edge=0.6346, Duration=3.6678, Joint=0.7689\n",
      "Epoch 30: Total Loss=4.3587, Edge=0.5717, Duration=3.0931, Joint=0.6939\n",
      "Epoch 35: Total Loss=2.6123, Edge=0.5548, Duration=1.4164, Joint=0.6411\n",
      "Epoch 40: Total Loss=1.8088, Edge=0.5781, Duration=0.5930, Joint=0.6376\n",
      "Epoch 45: Total Loss=1.7373, Edge=0.6185, Duration=0.5189, Joint=0.5999\n",
      "Epoch 49: Total Loss=1.6253, Edge=0.6407, Duration=0.4014, Joint=0.5832\n"
     ]
    }
   ],
   "source": [
    "model = train_model(model, data)"
   ]
  },
  {
   "cell_type": "code",
   "execution_count": 5,
   "metadata": {},
   "outputs": [],
   "source": [
    "def infer(model, data, max_duration=1440): # just to test\n",
    "    model.eval()\n",
    "    with torch.no_grad():\n",
    "        embeddings = model(data.x_dict, data.edge_index_dict)\n",
    "        person_emb = embeddings[\"person\"]\n",
    "        purpose_emb = embeddings[\"purpose\"]\n",
    "\n",
    "        edge_index = data[\"person\", \"performs\", \"purpose\"].edge_index\n",
    "        pos_person_emb = person_emb[edge_index[0]]\n",
    "        pos_purpose_emb = purpose_emb[edge_index[1]]\n",
    "\n",
    "        edge_probs = torch.sigmoid(model.predict_edges(pos_person_emb, pos_purpose_emb))\n",
    "        predicted_durations = model.predict_duration(pos_person_emb, pos_purpose_emb) * max_duration\n",
    "        joint_probs = torch.sigmoid(model.predict_joint(pos_person_emb, pos_purpose_emb))\n",
    "\n",
    "    return edge_probs, predicted_durations, joint_probs\n"
   ]
  },
  {
   "cell_type": "code",
   "execution_count": 6,
   "metadata": {},
   "outputs": [
    {
     "name": "stdout",
     "output_type": "stream",
     "text": [
      "Edge Probabilities (first 5): tensor([0.6273, 0.6126, 0.6298, 0.6273, 0.7878])\n",
      "Predicted Durations (min, first 5): tensor([ -561.4427,    38.1671,  -576.3266,  -561.4427, -1892.6478])\n",
      "Joint Activity Probabilities (first 5): tensor([0.4350, 0.4587, 0.4341, 0.4350, 0.9190])\n"
     ]
    }
   ],
   "source": [
    "# Run inference\n",
    "edge_probs, durations, joint_probs = infer(model, data)\n",
    "\n",
    "print(\"Edge Probabilities (first 5):\", edge_probs[:5])\n",
    "print(\"Predicted Durations (min, first 5):\", durations[:5])\n",
    "print(\"Joint Activity Probabilities (first 5):\", joint_probs[:5])"
   ]
  },
  {
   "cell_type": "code",
   "execution_count": 7,
   "metadata": {},
   "outputs": [],
   "source": [
    "# save model\n",
    "torch.save({\n",
    "    \"model_state_dict\": model.state_dict(),\n",
    "    \"hidden_channels\": 64,  # Any hyperparameters you may have\n",
    "}, \"data/trained_travel_gnn_model.pt\")"
   ]
  },
  {
   "cell_type": "code",
   "execution_count": null,
   "metadata": {},
   "outputs": [],
   "source": []
  }
 ],
 "metadata": {
  "kernelspec": {
   "display_name": "popsyn",
   "language": "python",
   "name": "python3"
  },
  "language_info": {
   "codemirror_mode": {
    "name": "ipython",
    "version": 3
   },
   "file_extension": ".py",
   "mimetype": "text/x-python",
   "name": "python",
   "nbconvert_exporter": "python",
   "pygments_lexer": "ipython3",
   "version": "3.9.18"
  }
 },
 "nbformat": 4,
 "nbformat_minor": 2
}
