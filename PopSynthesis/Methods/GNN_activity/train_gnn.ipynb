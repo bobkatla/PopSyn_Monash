{
 "cells": [
  {
   "cell_type": "code",
   "execution_count": 1,
   "metadata": {},
   "outputs": [],
   "source": [
    "import torch\n",
    "import torch.nn as nn\n",
    "import torch.optim as optim\n",
    "import torch.nn.functional as F\n",
    "from torch_geometric.nn import HeteroConv, SAGEConv, Linear, GATConv\n",
    "from torch_geometric.data import HeteroData\n",
    "import pandas as pd"
   ]
  },
  {
   "cell_type": "code",
   "execution_count": 2,
   "metadata": {},
   "outputs": [],
   "source": [
    "# Load the starting and expected graphs\n",
    "starting_graph_pyg = torch.load(\"data/start_graph.pt\")\n",
    "expected_graph_pyg = torch.load(\"data/expected_graph.pt\")\n",
    "travel_diaries_df = pd.read_csv(\"data/sample_travel_diaries.csv\")"
   ]
  },
  {
   "cell_type": "code",
   "execution_count": 3,
   "metadata": {},
   "outputs": [],
   "source": [
    "class TravelGNN(torch.nn.Module):\n",
    "    def __init__(self, hidden_channels):\n",
    "        super().__init__()\n",
    "        self.conv1 = HeteroConv({\n",
    "            ('person', 'belongs_to', 'household'): GATConv((-1, -1), hidden_channels, add_self_loops=False),\n",
    "            ('household', 'located_in', 'zone'): GATConv((-1, -1), hidden_channels, add_self_loops=False),\n",
    "            ('zone', 'has_purpose', 'purpose'): GATConv((-1, -1), hidden_channels, add_self_loops=False),\n",
    "            ('person', 'performs', 'purpose'): GATConv((-1, -1), hidden_channels, add_self_loops=False),\n",
    "            ('person', 'parent', 'person'): GATConv((-1, -1), hidden_channels, add_self_loops=False),\n",
    "            ('person', 'child', 'person'): GATConv((-1, -1), hidden_channels, add_self_loops=False),\n",
    "            ('person', 'spouse', 'person'): GATConv((-1, -1), hidden_channels, add_self_loops=False),\n",
    "            ('person', 'housemate', 'person'): GATConv((-1, -1), hidden_channels, add_self_loops=False),\n",
    "            ('person', 'sibling', 'person'): GATConv((-1, -1), hidden_channels, add_self_loops=False),\n",
    "        }, aggr='sum')\n",
    "\n",
    "        # Output heads\n",
    "        self.edge_classifier = Linear(hidden_channels, 1)\n",
    "        self.duration_regressor = Linear(hidden_channels, 1)\n",
    "        self.joint_classifier = Linear(hidden_channels, 1)\n",
    "\n",
    "    def forward(self, x_dict, edge_index_dict):\n",
    "        embeddings = self.conv1(x_dict, edge_index_dict)\n",
    "        embeddings = {k: F.relu(v) for k, v in embeddings.items()}\n",
    "        return embeddings\n",
    "\n",
    "    def predict_edges(self, person_emb, purpose_emb):\n",
    "        combined = person_emb * purpose_emb\n",
    "        return self.edge_classifier(combined).view(-1)\n",
    "\n",
    "    def predict_duration(self, person_emb, purpose_emb):\n",
    "        combined = person_emb * purpose_emb\n",
    "        return self.duration_regressor(combined).view(-1)\n",
    "\n",
    "    def predict_joint(self, person_emb, purpose_emb):\n",
    "        combined = person_emb * purpose_emb\n",
    "        return self.joint_classifier(combined).view(-1)\n"
   ]
  },
  {
   "cell_type": "code",
   "execution_count": 4,
   "metadata": {},
   "outputs": [],
   "source": [
    "model = TravelGNN(hidden_channels=64)\n",
    "optimizer = torch.optim.Adam(model.parameters(), lr=0.005)\n",
    "\n",
    "criterion_edge = torch.nn.BCEWithLogitsLoss()\n",
    "criterion_duration = torch.nn.MSELoss()\n",
    "criterion_joint = torch.nn.BCEWithLogitsLoss()\n",
    "\n",
    "data = expected_graph_pyg.to('cpu')"
   ]
  },
  {
   "cell_type": "code",
   "execution_count": 5,
   "metadata": {},
   "outputs": [],
   "source": [
    "def train_model(model, data, epochs=50, lr=0.005, max_duration=1440):\n",
    "    optimizer = torch.optim.Adam(model.parameters(), lr=lr)\n",
    "\n",
    "    criterion_edge = torch.nn.BCEWithLogitsLoss()\n",
    "    criterion_duration = torch.nn.MSELoss()\n",
    "    criterion_joint = torch.nn.BCEWithLogitsLoss()\n",
    "\n",
    "    data = data.to('cpu')\n",
    "\n",
    "    for epoch in range(epochs):\n",
    "        model.train()\n",
    "        optimizer.zero_grad()\n",
    "\n",
    "        embeddings = model(data.x_dict, data.edge_index_dict)\n",
    "        person_emb = embeddings[\"person\"]\n",
    "        purpose_emb = embeddings[\"purpose\"]\n",
    "\n",
    "        # Positive edges\n",
    "        edge_index = data[\"person\", \"performs\", \"purpose\"].edge_index\n",
    "        pos_person_emb = person_emb[edge_index[0]]\n",
    "        pos_purpose_emb = purpose_emb[edge_index[1]]\n",
    "\n",
    "        # Negative Sampling\n",
    "        num_neg = edge_index.size(1)\n",
    "        neg_person_idx = torch.randint(0, person_emb.size(0), (num_neg,))\n",
    "        neg_purpose_idx = torch.randint(0, purpose_emb.size(0), (num_neg,))\n",
    "        neg_person_emb = person_emb[neg_person_idx]\n",
    "        neg_purpose_emb = purpose_emb[neg_purpose_idx]\n",
    "\n",
    "        # Predictions\n",
    "        pos_edge_preds = model.predict_edges(pos_person_emb, pos_purpose_emb)\n",
    "        neg_edge_preds = model.predict_edges(neg_person_emb, neg_purpose_emb)\n",
    "\n",
    "        duration_preds = model.predict_duration(pos_person_emb, pos_purpose_emb)\n",
    "        joint_preds = model.predict_joint(pos_person_emb, pos_purpose_emb)\n",
    "\n",
    "        # Labels (normalized)\n",
    "        duration_labels = data[\"person\", \"performs\", \"purpose\"].duration / max_duration\n",
    "        edge_labels = torch.cat([torch.ones_like(pos_edge_preds), torch.zeros_like(neg_edge_preds)])\n",
    "        edge_preds = torch.cat([pos_edge_preds, neg_edge_preds])\n",
    "\n",
    "        joint_labels = data[\"person\", \"performs\", \"purpose\"].joint_activity.float()\n",
    "\n",
    "        # Losses\n",
    "        loss_edge = criterion_edge(edge_preds, edge_labels)\n",
    "        loss_duration = criterion_duration(duration_preds, duration_labels)\n",
    "        loss_joint = criterion_joint(joint_preds, joint_labels)\n",
    "\n",
    "        loss = loss_edge + loss_duration + loss_joint\n",
    "        loss.backward()\n",
    "        optimizer.step()\n",
    "\n",
    "        if epoch % 5 == 0 or epoch == epochs - 1:\n",
    "            print(f\"Epoch {epoch}: Total Loss={loss.item():.4f}, \"\n",
    "                  f\"Edge={loss_edge.item():.4f}, Duration={loss_duration.item():.4f}, Joint={loss_joint.item():.4f}\")\n",
    "\n",
    "    return model\n"
   ]
  },
  {
   "cell_type": "code",
   "execution_count": 6,
   "metadata": {},
   "outputs": [
    {
     "name": "stdout",
     "output_type": "stream",
     "text": [
      "Epoch 0: Total Loss=61.0375, Edge=2.8907, Duration=54.2714, Joint=3.8754\n",
      "Epoch 5: Total Loss=11.4663, Edge=1.4612, Duration=8.8814, Joint=1.1238\n",
      "Epoch 10: Total Loss=4.3246, Edge=0.9068, Duration=2.7847, Joint=0.6332\n",
      "Epoch 15: Total Loss=2.1321, Edge=0.9215, Duration=0.4432, Joint=0.7674\n",
      "Epoch 20: Total Loss=2.3424, Edge=0.8148, Duration=0.8653, Joint=0.6623\n",
      "Epoch 25: Total Loss=1.8060, Edge=0.7393, Duration=0.4966, Joint=0.5702\n",
      "Epoch 30: Total Loss=1.4051, Edge=0.6748, Duration=0.1732, Joint=0.5572\n",
      "Epoch 35: Total Loss=1.2106, Edge=0.5797, Duration=0.0841, Joint=0.5468\n",
      "Epoch 40: Total Loss=1.2107, Edge=0.6177, Duration=0.0626, Joint=0.5304\n",
      "Epoch 45: Total Loss=1.1282, Edge=0.5694, Duration=0.0410, Joint=0.5178\n",
      "Epoch 49: Total Loss=1.1191, Edge=0.5774, Duration=0.0377, Joint=0.5040\n"
     ]
    }
   ],
   "source": [
    "model = train_model(model, data)"
   ]
  },
  {
   "cell_type": "code",
   "execution_count": 7,
   "metadata": {},
   "outputs": [],
   "source": [
    "def infer(model, data, max_duration=1440): # just to test\n",
    "    model.eval()\n",
    "    with torch.no_grad():\n",
    "        embeddings = model(data.x_dict, data.edge_index_dict)\n",
    "        person_emb = embeddings[\"person\"]\n",
    "        purpose_emb = embeddings[\"purpose\"]\n",
    "\n",
    "        edge_index = data[\"person\", \"performs\", \"purpose\"].edge_index\n",
    "        pos_person_emb = person_emb[edge_index[0]]\n",
    "        pos_purpose_emb = purpose_emb[edge_index[1]]\n",
    "\n",
    "        edge_probs = torch.sigmoid(model.predict_edges(pos_person_emb, pos_purpose_emb))\n",
    "        predicted_durations = model.predict_duration(pos_person_emb, pos_purpose_emb) * max_duration\n",
    "        joint_probs = torch.sigmoid(model.predict_joint(pos_person_emb, pos_purpose_emb))\n",
    "\n",
    "    return edge_probs, predicted_durations, joint_probs\n"
   ]
  },
  {
   "cell_type": "code",
   "execution_count": 8,
   "metadata": {},
   "outputs": [
    {
     "name": "stdout",
     "output_type": "stream",
     "text": [
      "Edge Probabilities (first 5): tensor([0.5202, 0.5638, 0.5115, 0.5202, 0.7503])\n",
      "Predicted Durations (min, first 5): tensor([293.7080, 561.0504, 255.6238, 293.7080, -51.8185])\n",
      "Joint Activity Probabilities (first 5): tensor([0.7231, 0.6913, 0.7146, 0.7231, 0.8327])\n"
     ]
    }
   ],
   "source": [
    "# Run inference\n",
    "edge_probs, durations, joint_probs = infer(model, data)\n",
    "\n",
    "print(\"Edge Probabilities (first 5):\", edge_probs[:5])\n",
    "print(\"Predicted Durations (min, first 5):\", durations[:5])\n",
    "print(\"Joint Activity Probabilities (first 5):\", joint_probs[:5])"
   ]
  },
  {
   "cell_type": "code",
   "execution_count": 9,
   "metadata": {},
   "outputs": [],
   "source": [
    "# save model\n",
    "torch.save({\n",
    "    \"model_state_dict\": model.state_dict(),\n",
    "    \"hidden_channels\": 64,  # Any hyperparameters you may have\n",
    "}, \"data/trained_travel_gnn_model.pt\")"
   ]
  }
 ],
 "metadata": {
  "kernelspec": {
   "display_name": "popsyn",
   "language": "python",
   "name": "python3"
  },
  "language_info": {
   "codemirror_mode": {
    "name": "ipython",
    "version": 3
   },
   "file_extension": ".py",
   "mimetype": "text/x-python",
   "name": "python",
   "nbconvert_exporter": "python",
   "pygments_lexer": "ipython3",
   "version": "3.9.18"
  }
 },
 "nbformat": 4,
 "nbformat_minor": 2
}
