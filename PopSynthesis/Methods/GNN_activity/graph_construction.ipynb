{
 "cells": [
  {
   "cell_type": "code",
   "execution_count": 1,
   "metadata": {},
   "outputs": [],
   "source": [
    "%load_ext autoreload\n",
    "%autoreload 2"
   ]
  },
  {
   "cell_type": "code",
   "execution_count": 2,
   "metadata": {},
   "outputs": [],
   "source": [
    "import pandas as pd\n",
    "from PopSynthesis.Methods.GNN_activity.utils import visualize_pyg_graph_with_zones, save_graphs\n",
    "from PopSynthesis.Methods.GNN_activity.graph_construct import construct_graph_pyg, assign_start_time_to_travel_diaries"
   ]
  },
  {
   "cell_type": "code",
   "execution_count": 3,
   "metadata": {},
   "outputs": [],
   "source": [
    "# Reload the datasets\n",
    "zones_df = pd.read_csv(\"data/zones.csv\")\n",
    "purposes_df = pd.read_csv(\"data/purposes.csv\")\n",
    "sample_households_df = pd.read_csv(\"data/sample_households.csv\")\n",
    "sample_people_df = pd.read_csv(\"data/sample_people.csv\")\n",
    "od_matrix_df = pd.read_csv(\"data/od_matrix.csv\")\n",
    "sample_travel_diaries_df = pd.read_csv(\"data/sample_travel_diaries.csv\")"
   ]
  },
  {
   "cell_type": "code",
   "execution_count": 4,
   "metadata": {},
   "outputs": [],
   "source": [
    "sample_travel_diaries_df = assign_start_time_to_travel_diaries(sample_travel_diaries_df)"
   ]
  },
  {
   "cell_type": "code",
   "execution_count": 5,
   "metadata": {},
   "outputs": [
    {
     "data": {
      "text/plain": [
       "HeteroData(\n",
       "  zone={ x=[5, 1] },\n",
       "  purpose={ x=[30, 1] },\n",
       "  household={ x=[7, 2] },\n",
       "  person={ x=[21, 2] },\n",
       "  (zone, connects, zone)={\n",
       "    edge_index=[2, 10],\n",
       "    edge_attr=[10, 2],\n",
       "    t=[10],\n",
       "  },\n",
       "  (zone, has_household, household)={\n",
       "    edge_index=[2, 7],\n",
       "    t=[7],\n",
       "  },\n",
       "  (household, has_person, person)={\n",
       "    edge_index=[2, 21],\n",
       "    t=[21],\n",
       "  },\n",
       "  (zone, has_purpose, purpose)={\n",
       "    edge_index=[2, 30],\n",
       "    t=[30],\n",
       "  },\n",
       "  (purpose, attracts, person)={\n",
       "    edge_index=[2, 83],\n",
       "    t=[83],\n",
       "    joint_activity=[83],\n",
       "  },\n",
       "  (person, relate, person)={\n",
       "    edge_index=[2, 46],\n",
       "    relationship=[46],\n",
       "    t=[46],\n",
       "  }\n",
       ")"
      ]
     },
     "execution_count": 5,
     "metadata": {},
     "output_type": "execute_result"
    }
   ],
   "source": [
    "relationships = [\"Parent\", \"Child\", \"Spouse\", \"Housemate\", \"Sibling\"]\n",
    "relationship_mapping = {\"Parent\": 0, \"Child\": 1, \"Spouse\": 2, \"Housemate\": 3, \"Sibling\": 4}\n",
    "\n",
    "# Construct the PyG-compatible heterogeneous graph (CPU mode only)\n",
    "train_graph_pyg = construct_graph_pyg(zones_df, purposes_df, sample_households_df, sample_people_df, od_matrix_df, sample_travel_diaries_df, relationship_mapping)\n",
    "\n",
    "# Display the graph structure\n",
    "train_graph_pyg"
   ]
  },
  {
   "cell_type": "code",
   "execution_count": null,
   "metadata": {},
   "outputs": [],
   "source": [
    "# Generate an interactive PyVis visualization with Zones, Households, People, and Purposes correctly labeled\n",
    "net_visual_zones = visualize_pyg_graph_with_zones(train_graph_pyg, sample_people_df, sample_households_df, purposes_df, zones_df)\n",
    "net_visual_zones.save_graph(\"data/graph_starting.html\")"
   ]
  },
  {
   "cell_type": "code",
   "execution_count": 7,
   "metadata": {},
   "outputs": [],
   "source": [
    "save_graphs(train_graph_pyg, output_dir=\"data/\", output_name=\"train_graph\", output_type=\"torch\")"
   ]
  },
  {
   "cell_type": "code",
   "execution_count": 8,
   "metadata": {},
   "outputs": [],
   "source": [
    "to_predict_hh_df = pd.read_csv(\"data/to_predict_households.csv\")\n",
    "to_predict_people_df = pd.read_csv(\"data/to_predict_people.csv\")"
   ]
  },
  {
   "cell_type": "code",
   "execution_count": 9,
   "metadata": {},
   "outputs": [
    {
     "data": {
      "text/plain": [
       "HeteroData(\n",
       "  zone={ x=[5, 1] },\n",
       "  purpose={ x=[30, 1] },\n",
       "  household={ x=[16, 2] },\n",
       "  person={ x=[52, 2] },\n",
       "  (zone, connects, zone)={\n",
       "    edge_index=[2, 10],\n",
       "    edge_attr=[10, 2],\n",
       "    t=[10],\n",
       "  },\n",
       "  (zone, has_household, household)={\n",
       "    edge_index=[2, 16],\n",
       "    t=[16],\n",
       "  },\n",
       "  (household, has_person, person)={\n",
       "    edge_index=[2, 52],\n",
       "    t=[52],\n",
       "  },\n",
       "  (zone, has_purpose, purpose)={\n",
       "    edge_index=[2, 30],\n",
       "    t=[30],\n",
       "  },\n",
       "  (purpose, attracts, person)={\n",
       "    edge_index=[2, 52],\n",
       "    t=[52],\n",
       "    joint_activity=[52],\n",
       "  },\n",
       "  (person, relate, person)={\n",
       "    edge_index=[2, 132],\n",
       "    relationship=[132],\n",
       "    t=[132],\n",
       "  }\n",
       ")"
      ]
     },
     "execution_count": 9,
     "metadata": {},
     "output_type": "execute_result"
    }
   ],
   "source": [
    "to_predict_graphs = construct_graph_pyg(zones_df, purposes_df, to_predict_hh_df, to_predict_people_df, od_matrix_df, None, relationship_mapping)\n",
    "to_predict_graphs"
   ]
  },
  {
   "cell_type": "code",
   "execution_count": 10,
   "metadata": {},
   "outputs": [],
   "source": [
    "save_graphs(to_predict_graphs, output_dir=\"data/\", output_name=\"to_predict_graph\", output_type=\"torch\")"
   ]
  },
  {
   "cell_type": "code",
   "execution_count": 11,
   "metadata": {},
   "outputs": [],
   "source": [
    "# Generate an interactive PyVis visualization with Zones, Households, People, and Purposes correctly labeled\n",
    "net_visual_predict = visualize_pyg_graph_with_zones(to_predict_graphs, to_predict_people_df, to_predict_hh_df, purposes_df, zones_df)\n",
    "net_visual_predict.save_graph(\"data/graph_predict.html\")"
   ]
  },
  {
   "cell_type": "code",
   "execution_count": null,
   "metadata": {},
   "outputs": [],
   "source": []
  }
 ],
 "metadata": {
  "kernelspec": {
   "display_name": "popsyn",
   "language": "python",
   "name": "python3"
  },
  "language_info": {
   "codemirror_mode": {
    "name": "ipython",
    "version": 3
   },
   "file_extension": ".py",
   "mimetype": "text/x-python",
   "name": "python",
   "nbconvert_exporter": "python",
   "pygments_lexer": "ipython3",
   "version": "3.9.18"
  }
 },
 "nbformat": 4,
 "nbformat_minor": 2
}
