{
 "cells": [
  {
   "cell_type": "code",
   "execution_count": 1,
   "metadata": {},
   "outputs": [],
   "source": [
    "import pandas as pd\n",
    "from PopSynthesis.Methods.GNN_activity.utils import visualize_pyg_graph_with_zones, save_graphs, construct_starting_graph_pyg, add_travel_diaries_to_graph"
   ]
  },
  {
   "cell_type": "code",
   "execution_count": 2,
   "metadata": {},
   "outputs": [],
   "source": [
    "# Reload the datasets\n",
    "zones_df = pd.read_csv(\"data/zones.csv\")\n",
    "purposes_df = pd.read_csv(\"data/purposes.csv\")\n",
    "sample_households_df = pd.read_csv(\"data/sample_households.csv\")\n",
    "sample_people_df = pd.read_csv(\"data/sample_people.csv\")\n",
    "od_matrix_df = pd.read_csv(\"data/od_matrix.csv\")\n",
    "sample_travel_diaries_df = pd.read_csv(\"data/sample_travel_diaries.csv\")"
   ]
  },
  {
   "cell_type": "code",
   "execution_count": 3,
   "metadata": {},
   "outputs": [
    {
     "data": {
      "text/plain": [
       "HeteroData(\n",
       "  zone={ x=[5, 1] },\n",
       "  purpose={ x=[30, 1] },\n",
       "  household={ x=[7, 2] },\n",
       "  person={ x=[21, 1] },\n",
       "  (zone, travel, zone)={ edge_index=[2, 10] },\n",
       "  (zone, has_purpose, purpose)={ edge_index=[2, 30] },\n",
       "  (household, located_in, zone)={ edge_index=[2, 7] },\n",
       "  (person, belongs_to, household)={ edge_index=[2, 21] },\n",
       "  (person, related_to, person)={ edge_index=[2, 46] },\n",
       "  (person, performs, purpose)={\n",
       "    edge_index=[2, 0],\n",
       "    duration=[0],\n",
       "    ranking=[0],\n",
       "    joint_activity=[0],\n",
       "  }\n",
       ")"
      ]
     },
     "execution_count": 3,
     "metadata": {},
     "output_type": "execute_result"
    }
   ],
   "source": [
    "# Construct the PyG-compatible heterogeneous graph (CPU mode only)\n",
    "starting_graph_pyg = construct_starting_graph_pyg(zones_df, purposes_df, sample_households_df, sample_people_df, od_matrix_df)\n",
    "\n",
    "# Display the graph structure\n",
    "starting_graph_pyg"
   ]
  },
  {
   "cell_type": "code",
   "execution_count": 4,
   "metadata": {},
   "outputs": [],
   "source": [
    "# # Map indices to real-world names\n",
    "# person_id_map = {i: p_id for i, p_id in enumerate(sample_people_df[\"person_id\"])}\n",
    "# household_id_map = {i: h_id for i, h_id in enumerate(sample_households_df[\"household_id\"])}\n",
    "# purpose_id_map = {i: f\"{row['purpose_type']}_Z{row['zone_id']}\" for i, row in purposes_df.iterrows()}\n",
    "\n",
    "# def get_node_name(node_type, index):\n",
    "#     if node_type == \"person\":\n",
    "#         return person_id_map.get(index, f\"Person_{index}\")\n",
    "#     elif node_type == \"household\":\n",
    "#         return household_id_map.get(index, f\"Household_{index}\")\n",
    "#     elif node_type == \"purpose\":\n",
    "#         return purpose_id_map.get(index, f\"Purpose_{index}\")\n",
    "#     return f\"{node_type}_{index}\"\n",
    "\n",
    "# # Print edges with actual names\n",
    "# for edge_type in starting_graph_pyg.edge_types:\n",
    "#     src_type, _, dst_type = edge_type\n",
    "#     edge_index = starting_graph_pyg[edge_type].edge_index.numpy()\n",
    "\n",
    "#     print(f\"🔹 {edge_type} Edges:\")\n",
    "#     for src, dst in zip(edge_index[0], edge_index[1]):\n",
    "#         print(f\"  {get_node_name(src_type, src)} → {get_node_name(dst_type, dst)}\")\n"
   ]
  },
  {
   "cell_type": "code",
   "execution_count": 5,
   "metadata": {},
   "outputs": [],
   "source": [
    "# Generate an interactive PyVis visualization with Zones, Households, People, and Purposes correctly labeled\n",
    "net_visual_zones = visualize_pyg_graph_with_zones(starting_graph_pyg, sample_people_df, sample_households_df, purposes_df, zones_df)\n",
    "net_visual_zones.save_graph(\"data/graph_starting.html\")"
   ]
  },
  {
   "cell_type": "code",
   "execution_count": 6,
   "metadata": {},
   "outputs": [
    {
     "data": {
      "text/plain": [
       "HeteroData(\n",
       "  zone={ x=[5, 1] },\n",
       "  purpose={ x=[30, 1] },\n",
       "  household={ x=[7, 2] },\n",
       "  person={ x=[21, 1] },\n",
       "  (zone, travel, zone)={ edge_index=[2, 10] },\n",
       "  (zone, has_purpose, purpose)={ edge_index=[2, 30] },\n",
       "  (household, located_in, zone)={ edge_index=[2, 7] },\n",
       "  (person, belongs_to, household)={ edge_index=[2, 21] },\n",
       "  (person, related_to, person)={ edge_index=[2, 46] },\n",
       "  (person, performs, purpose)={\n",
       "    edge_index=[2, 0],\n",
       "    duration=[0],\n",
       "    ranking=[0],\n",
       "    joint_activity=[0],\n",
       "  }\n",
       ")"
      ]
     },
     "execution_count": 6,
     "metadata": {},
     "output_type": "execute_result"
    }
   ],
   "source": [
    "# Generate ID mappings\n",
    "person_id_map = {p_id: i for i, p_id in enumerate(sample_people_df[\"person_id\"])}\n",
    "purpose_id_map = {p_id: i for i, p_id in enumerate(purposes_df[\"purpose_id\"])}\n",
    "\n",
    "# Construct the expected output graph\n",
    "expected_graph_pyg = add_travel_diaries_to_graph(starting_graph_pyg, sample_travel_diaries_df, person_id_map, purpose_id_map)\n",
    "expected_graph_pyg"
   ]
  },
  {
   "cell_type": "code",
   "execution_count": 7,
   "metadata": {},
   "outputs": [],
   "source": [
    "# Generate an interactive PyVis visualization with Zones, Households, People, and Purposes correctly labeled\n",
    "net_results = visualize_pyg_graph_with_zones(expected_graph_pyg, sample_people_df, sample_households_df, purposes_df, zones_df)\n",
    "net_results.save_graph(\"data/graph_results.html\")"
   ]
  },
  {
   "cell_type": "code",
   "execution_count": 8,
   "metadata": {},
   "outputs": [],
   "source": [
    "save_graphs(starting_graph_pyg, output_dir=\"data/\", output_name=\"start_graph\", output_type=\"torch\")\n",
    "save_graphs(expected_graph_pyg, output_dir=\"data/\", output_name=\"expected_graph\", output_type=\"torch\")"
   ]
  },
  {
   "cell_type": "code",
   "execution_count": 9,
   "metadata": {},
   "outputs": [],
   "source": [
    "to_predict_hh_df = pd.read_csv(\"data/to_predict_households.csv\")\n",
    "to_predict_people_df = pd.read_csv(\"data/to_predict_people.csv\")"
   ]
  },
  {
   "cell_type": "code",
   "execution_count": 10,
   "metadata": {},
   "outputs": [
    {
     "data": {
      "text/plain": [
       "HeteroData(\n",
       "  zone={ x=[5, 1] },\n",
       "  purpose={ x=[30, 1] },\n",
       "  household={ x=[16, 2] },\n",
       "  person={ x=[52, 1] },\n",
       "  (zone, travel, zone)={ edge_index=[2, 10] },\n",
       "  (zone, has_purpose, purpose)={ edge_index=[2, 30] },\n",
       "  (household, located_in, zone)={ edge_index=[2, 16] },\n",
       "  (person, belongs_to, household)={ edge_index=[2, 52] },\n",
       "  (person, related_to, person)={ edge_index=[2, 132] },\n",
       "  (person, performs, purpose)={\n",
       "    edge_index=[2, 0],\n",
       "    duration=[0],\n",
       "    ranking=[0],\n",
       "    joint_activity=[0],\n",
       "  }\n",
       ")"
      ]
     },
     "execution_count": 10,
     "metadata": {},
     "output_type": "execute_result"
    }
   ],
   "source": [
    "to_predict_graphs = construct_starting_graph_pyg(zones_df, purposes_df, to_predict_hh_df, to_predict_people_df, od_matrix_df)\n",
    "to_predict_graphs"
   ]
  },
  {
   "cell_type": "code",
   "execution_count": 11,
   "metadata": {},
   "outputs": [],
   "source": [
    "save_graphs(to_predict_graphs, output_dir=\"data/\", output_name=\"to_predict_graph\", output_type=\"torch\")"
   ]
  }
 ],
 "metadata": {
  "kernelspec": {
   "display_name": "popsyn",
   "language": "python",
   "name": "python3"
  },
  "language_info": {
   "codemirror_mode": {
    "name": "ipython",
    "version": 3
   },
   "file_extension": ".py",
   "mimetype": "text/x-python",
   "name": "python",
   "nbconvert_exporter": "python",
   "pygments_lexer": "ipython3",
   "version": "3.9.18"
  }
 },
 "nbformat": 4,
 "nbformat_minor": 2
}
