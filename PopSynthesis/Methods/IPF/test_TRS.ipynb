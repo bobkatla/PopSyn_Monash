{
 "cells": [
  {
   "cell_type": "code",
   "execution_count": 6,
   "id": "8858959c",
   "metadata": {},
   "outputs": [],
   "source": [
    "import pandas as pd\n",
    "from PopSynthesis.Generator_data.generate_combine_census.utils import TRS\n",
    "from pathlib import Path"
   ]
  },
  {
   "cell_type": "code",
   "execution_count": 7,
   "id": "6294c928",
   "metadata": {},
   "outputs": [],
   "source": [
    "output_bn_folder = Path(\"output/ipf_bn\")\n",
    "\n",
    "raw_ipf_bn = pd.read_csv(\"output/raw_ipf_BN.csv\")\n",
    "output_bn_folder.mkdir(parents=True, exist_ok=True)\n",
    "n_runs = 10 \n",
    "for i in range(n_runs):\n",
    "    df = raw_ipf_bn.copy(deep=True)\n",
    "    df[\"total\"] = TRS(df[\"total\"])\n",
    "    df = df[df[\"total\"] > 0]\n",
    "    actual_out = output_bn_folder / f\"reruns_{i}\"\n",
    "    actual_out.mkdir(parents=True, exist_ok=True)\n",
    "    df.to_csv(actual_out / \"hh_syn_saa.csv\", index=False)"
   ]
  },
  {
   "cell_type": "code",
   "execution_count": 9,
   "id": "06360c45",
   "metadata": {},
   "outputs": [],
   "source": [
    "output_norm_folder = Path(\"output/ipf_normal\")\n",
    "\n",
    "raw_ipf_bn = pd.read_csv(\"output/raw_ipf_normal.csv\")\n",
    "output_norm_folder.mkdir(parents=True, exist_ok=True)\n",
    "n_runs = 10\n",
    "for i in range(n_runs):\n",
    "    df = raw_ipf_bn.copy(deep=True)\n",
    "    df[\"total\"] = TRS(df[\"total\"])\n",
    "    df = df[df[\"total\"] > 0]\n",
    "    actual_out = output_norm_folder / f\"reruns_{i}\"\n",
    "    actual_out.mkdir(parents=True, exist_ok=True)\n",
    "    df.to_csv(actual_out / \"hh_syn_saa.csv\", index=False)"
   ]
  },
  {
   "cell_type": "code",
   "execution_count": null,
   "id": "37e4fec3",
   "metadata": {},
   "outputs": [],
   "source": []
  }
 ],
 "metadata": {
  "kernelspec": {
   "display_name": "popsyn",
   "language": "python",
   "name": "python3"
  },
  "language_info": {
   "codemirror_mode": {
    "name": "ipython",
    "version": 3
   },
   "file_extension": ".py",
   "mimetype": "text/x-python",
   "name": "python",
   "nbconvert_exporter": "python",
   "pygments_lexer": "ipython3",
   "version": "3.9.18"
  }
 },
 "nbformat": 4,
 "nbformat_minor": 5
}
