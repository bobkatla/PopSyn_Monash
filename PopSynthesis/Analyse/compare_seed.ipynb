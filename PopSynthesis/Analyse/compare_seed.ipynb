{
 "cells": [
  {
   "cell_type": "code",
   "execution_count": 3,
   "metadata": {},
   "outputs": [],
   "source": [
    "import pandas as pd\n",
    "import numpy as np\n",
    "from scipy.spatial.distance import jensenshannon"
   ]
  },
  {
   "cell_type": "code",
   "execution_count": 4,
   "metadata": {},
   "outputs": [],
   "source": [
    "# Population data and the census data, also extract the total and studied attributes\n",
    "folder_loc = \"data\"\n",
    "to_analyse_data = {\n",
    "    # \"SAA_hhsz_rm30\": \"SAA_HH_oriseed_IPL_abs_hhsz_first_no_penal_rm0_add_zero_cells.csv\",\n",
    "    # \"SAA_hhsz_rm0\": \"SAA_HH_oriseed_IPL_abs_hhsz_first_no_penal_rm30_add_zero_cells.csv\",\n",
    "    # \"SAA_hhsz_zerocellstill\": \"SAA_HH_oriseed_IPL_abs_hhsz_first_no_penal_rm30_missing_zero_cells.csv\",\n",
    "    \"SAA_BN_pool\": \"SAA_HH_paper_BN_IPL_ordered_rm30_2.csv\",\n",
    "    \"SAA_seed_addzero\": \"SAA_HH_paper_oriseed_IPL_ordered_rm30_addzero.csv\",\n",
    "    \"SAA_seed_misszero\": \"SAA_HH_paper_oriseed_IPL_ordered_rm30_misszero.csv\",\n",
    "    \"IPF_normal\": \"IPF_using_normals_seed.csv\",\n",
    "    \"IPF_fromBN\": \"IPF_BN_pool2.csv\",\n",
    "    \"seed\": \"hh_sample_ipu.csv\", # Main one always there\n",
    "}\n",
    "assert \"seed\" in to_analyse_data"
   ]
  },
  {
   "cell_type": "code",
   "execution_count": null,
   "metadata": {},
   "outputs": [],
   "source": []
  }
 ],
 "metadata": {
  "kernelspec": {
   "display_name": "popsyn",
   "language": "python",
   "name": "python3"
  },
  "language_info": {
   "codemirror_mode": {
    "name": "ipython",
    "version": 3
   },
   "file_extension": ".py",
   "mimetype": "text/x-python",
   "name": "python",
   "nbconvert_exporter": "python",
   "pygments_lexer": "ipython3",
   "version": "3.9.18"
  }
 },
 "nbformat": 4,
 "nbformat_minor": 2
}
