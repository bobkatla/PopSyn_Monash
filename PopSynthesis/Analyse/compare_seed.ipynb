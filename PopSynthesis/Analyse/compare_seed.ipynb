{
 "cells": [
  {
   "cell_type": "code",
   "execution_count": 7,
   "metadata": {},
   "outputs": [],
   "source": [
    "import pandas as pd\n",
    "import numpy as np\n",
    "from scipy.spatial.distance import jensenshannon\n",
    "import os"
   ]
  },
  {
   "cell_type": "code",
   "execution_count": 5,
   "metadata": {},
   "outputs": [],
   "source": [
    "# Population data and the census data, also extract the total and studied attributes\n",
    "folder_loc = \"data\"\n",
    "to_analyse_data = {\n",
    "    # \"SAA_hhsz_rm30\": \"SAA_HH_oriseed_IPL_abs_hhsz_first_no_penal_rm0_add_zero_cells.csv\",\n",
    "    # \"SAA_hhsz_rm0\": \"SAA_HH_oriseed_IPL_abs_hhsz_first_no_penal_rm30_add_zero_cells.csv\",\n",
    "    # \"SAA_hhsz_zerocellstill\": \"SAA_HH_oriseed_IPL_abs_hhsz_first_no_penal_rm30_missing_zero_cells.csv\",\n",
    "    \"SAA_BN_pool\": \"SAA_HH_paper_BN_IPL_ordered_rm30_2.csv\",\n",
    "    \"SAA_seed_addzero\": \"SAA_HH_paper_oriseed_IPL_ordered_rm30_addzero.csv\",\n",
    "    \"SAA_seed_misszero\": \"SAA_HH_paper_oriseed_IPL_ordered_rm30_misszero.csv\",\n",
    "    \"IPF_normal\": \"IPF_using_normals_seed.csv\",\n",
    "    \"IPF_fromBN\": \"IPF_BN_pool2.csv\",\n",
    "    \"seed\": \"hh_sample_ipu.csv\", # Main one always there\n",
    "}\n",
    "assert \"seed\" in to_analyse_data\n",
    "atts = {'dwelltype', 'hhinc', 'hhsize', 'owndwell', 'totalvehs'}"
   ]
  },
  {
   "cell_type": "code",
   "execution_count": 8,
   "metadata": {},
   "outputs": [
    {
     "name": "stderr",
     "output_type": "stream",
     "text": [
      "C:\\Users\\dlaa0001\\AppData\\Local\\Temp\\ipykernel_23400\\240776870.py:2: DtypeWarning: Columns (0) have mixed types. Specify dtype option on import or set low_memory=False.\n",
      "  processed_analyse_data = {name: pd.read_csv(os.path.join(folder_loc, file)) for name, file in to_analyse_data.items() if name != \"seed\"}\n"
     ]
    }
   ],
   "source": [
    "# Reading the file to df\n",
    "processed_analyse_data = {name: pd.read_csv(os.path.join(folder_loc, file)) for name, file in to_analyse_data.items() if name != \"seed\"}"
   ]
  },
  {
   "cell_type": "code",
   "execution_count": 9,
   "metadata": {},
   "outputs": [],
   "source": [
    "seed = pd.read_csv(os.path.join(folder_loc, to_analyse_data[\"seed\"]))"
   ]
  },
  {
   "cell_type": "code",
   "execution_count": 26,
   "metadata": {},
   "outputs": [],
   "source": [
    "def get_jsd(att, df, seed):\n",
    "    sum_df = df[att].value_counts(normalize=True)\n",
    "    sum_seed = seed[att].value_counts(normalize=True)\n",
    "    # if att == \"hhinc\" and \"Negative income\" in sum_df.index:\n",
    "    #     sum_df = sum_df.drop(index=\"Negative income\")\n",
    "    p, q = sum_df.align(sum_seed, fill_value=0)\n",
    "\n",
    "    # Convert to NumPy arrays\n",
    "    p_array = p.to_numpy()\n",
    "    q_array = q.to_numpy()\n",
    "\n",
    "    # Compute Jensen-Shannon Distance\n",
    "    js_distance = jensenshannon(p_array, q_array)\n",
    "    return js_distance\n",
    "    # print(f\"Jensen-Shannon Distance for {att}: {js_distance}\")"
   ]
  },
  {
   "cell_type": "code",
   "execution_count": 27,
   "metadata": {},
   "outputs": [],
   "source": [
    "updated_results = {}\n",
    "for name, df in processed_analyse_data.items():\n",
    "    hold = {}\n",
    "    for att in atts:\n",
    "        hold[att] = get_jsd(att, df, seed)\n",
    "    updated_results[name] = pd.Series(hold)"
   ]
  },
  {
   "cell_type": "code",
   "execution_count": 29,
   "metadata": {},
   "outputs": [
    {
     "data": {
      "text/html": [
       "<div>\n",
       "<style scoped>\n",
       "    .dataframe tbody tr th:only-of-type {\n",
       "        vertical-align: middle;\n",
       "    }\n",
       "\n",
       "    .dataframe tbody tr th {\n",
       "        vertical-align: top;\n",
       "    }\n",
       "\n",
       "    .dataframe thead th {\n",
       "        text-align: right;\n",
       "    }\n",
       "</style>\n",
       "<table border=\"1\" class=\"dataframe\">\n",
       "  <thead>\n",
       "    <tr style=\"text-align: right;\">\n",
       "      <th></th>\n",
       "      <th>SAA_BN_pool</th>\n",
       "      <th>SAA_seed_addzero</th>\n",
       "      <th>SAA_seed_misszero</th>\n",
       "      <th>IPF_normal</th>\n",
       "      <th>IPF_fromBN</th>\n",
       "    </tr>\n",
       "  </thead>\n",
       "  <tbody>\n",
       "    <tr>\n",
       "      <th>hhsize</th>\n",
       "      <td>0.157655</td>\n",
       "      <td>0.075458</td>\n",
       "      <td>0.074765</td>\n",
       "      <td>0.069133</td>\n",
       "      <td>0.075346</td>\n",
       "    </tr>\n",
       "    <tr>\n",
       "      <th>totalvehs</th>\n",
       "      <td>0.043038</td>\n",
       "      <td>0.043108</td>\n",
       "      <td>0.042754</td>\n",
       "      <td>0.041844</td>\n",
       "      <td>0.043243</td>\n",
       "    </tr>\n",
       "    <tr>\n",
       "      <th>hhinc</th>\n",
       "      <td>0.187654</td>\n",
       "      <td>0.187553</td>\n",
       "      <td>0.180602</td>\n",
       "      <td>0.180920</td>\n",
       "      <td>0.187525</td>\n",
       "    </tr>\n",
       "    <tr>\n",
       "      <th>dwelltype</th>\n",
       "      <td>0.117351</td>\n",
       "      <td>0.117091</td>\n",
       "      <td>0.117044</td>\n",
       "      <td>0.117088</td>\n",
       "      <td>0.117315</td>\n",
       "    </tr>\n",
       "    <tr>\n",
       "      <th>owndwell</th>\n",
       "      <td>0.091831</td>\n",
       "      <td>0.091189</td>\n",
       "      <td>0.091235</td>\n",
       "      <td>0.089448</td>\n",
       "      <td>0.092411</td>\n",
       "    </tr>\n",
       "  </tbody>\n",
       "</table>\n",
       "</div>"
      ],
      "text/plain": [
       "           SAA_BN_pool  SAA_seed_addzero  SAA_seed_misszero  IPF_normal  \\\n",
       "hhsize        0.157655          0.075458           0.074765    0.069133   \n",
       "totalvehs     0.043038          0.043108           0.042754    0.041844   \n",
       "hhinc         0.187654          0.187553           0.180602    0.180920   \n",
       "dwelltype     0.117351          0.117091           0.117044    0.117088   \n",
       "owndwell      0.091831          0.091189           0.091235    0.089448   \n",
       "\n",
       "           IPF_fromBN  \n",
       "hhsize       0.075346  \n",
       "totalvehs    0.043243  \n",
       "hhinc        0.187525  \n",
       "dwelltype    0.117315  \n",
       "owndwell     0.092411  "
      ]
     },
     "execution_count": 29,
     "metadata": {},
     "output_type": "execute_result"
    }
   ],
   "source": [
    "last_order = [\"hhsize\", \"totalvehs\", \"hhinc\", \"dwelltype\", \"owndwell\"]\n",
    "jsd_results = pd.DataFrame(updated_results).reindex(last_order)\n",
    "jsd_results"
   ]
  },
  {
   "cell_type": "code",
   "execution_count": 30,
   "metadata": {},
   "outputs": [
    {
     "data": {
      "text/plain": [
       "<Axes: >"
      ]
     },
     "execution_count": 30,
     "metadata": {},
     "output_type": "execute_result"
    },
    {
     "data": {
      "image/png": "[encoded data removed]",
      "text/plain": [
       "<Figure size 1000x600 with 1 Axes>"
      ]
     },
     "metadata": {},
     "output_type": "display_data"
    }
   ],
   "source": [
    "jsd_results.plot(kind='bar', figsize=(10, 6))"
   ]
  },
  {
   "cell_type": "code",
   "execution_count": null,
   "metadata": {},
   "outputs": [],
   "source": []
  }
 ],
 "metadata": {
  "kernelspec": {
   "display_name": "popsyn",
   "language": "python",
   "name": "python3"
  },
  "language_info": {
   "codemirror_mode": {
    "name": "ipython",
    "version": 3
   },
   "file_extension": ".py",
   "mimetype": "text/x-python",
   "name": "python",
   "nbconvert_exporter": "python",
   "pygments_lexer": "ipython3",
   "version": "3.9.18"
  }
 },
 "nbformat": 4,
 "nbformat_minor": 2
}
