{
 "cells": [
  {
   "cell_type": "code",
   "execution_count": 1,
   "metadata": {},
   "outputs": [],
   "source": [
    "import pandas as pd\n",
    "import os"
   ]
  },
  {
   "cell_type": "code",
   "execution_count": 2,
   "metadata": {},
   "outputs": [],
   "source": [
    "data_folder = \"data/synpop_related\"\n",
    "marginals = pd.read_csv(os.path.join(data_folder, \"hh_marginals_ipu.csv\"), header=[0,1])\n",
    "marginals = marginals.set_index(marginals.columns[0])\n",
    "marginals = marginals.drop(columns=marginals.columns[0])\n",
    "totals = marginals.sum(axis=1)/5 #n_atts = 5"
   ]
  },
  {
   "cell_type": "code",
   "execution_count": 3,
   "metadata": {},
   "outputs": [],
   "source": [
    "pool = pd.read_csv(os.path.join(data_folder, \"HH_pool.csv\"))"
   ]
  },
  {
   "cell_type": "code",
   "execution_count": 4,
   "metadata": {},
   "outputs": [],
   "source": [
    "# marginals.columns = marginals.columns.to_flat_index()\n",
    "chosen_att = \"hhsize\"\n",
    "filtered_marginal = marginals[marginals.columns[marginals.columns.get_level_values(0) == chosen_att]]\n",
    "states = set(filtered_marginal.columns.get_level_values(1))\n",
    "filtered_pools = {state: pool[pool[chosen_att]==state] for state in states}"
   ]
  },
  {
   "cell_type": "code",
   "execution_count": 5,
   "metadata": {},
   "outputs": [
    {
     "name": "stdout",
     "output_type": "stream",
     "text": [
      "Have enough negative income households\n"
     ]
    }
   ],
   "source": [
    "have_enough_neg_income = False\n",
    "synthetic_population = None\n",
    "while not have_enough_neg_income:\n",
    "    store_pop = []\n",
    "    for zone, row in filtered_marginal.iterrows():\n",
    "        for state in states:\n",
    "            pop_count = row[(chosen_att, state)]\n",
    "            if pop_count > 0:\n",
    "                state_pool = filtered_pools[state]\n",
    "                pop = state_pool.sample(int(pop_count), replace=True)\n",
    "                store_pop.append(pop)\n",
    "    synthetic_population = pd.concat(store_pop)\n",
    "    check = synthetic_population[synthetic_population[\"hhinc\"]==\"Negative income\"]\n",
    "    if len(check) > 1:\n",
    "        have_enough_neg_income = True\n",
    "        print(\"Have enough negative income households\")"
   ]
  },
  {
   "cell_type": "code",
   "execution_count": 6,
   "metadata": {},
   "outputs": [],
   "source": [
    "# store_pop = []\n",
    "# for zone, tot in zip(totals.index, totals):\n",
    "#     syn_pop = pool.sample(n=int(tot))\n",
    "#     syn_pop[\"zone_id\"] = zone\n",
    "#     store_pop.append(syn_pop)\n",
    "# synthetic_population = pd.concat(store_pop)"
   ]
  },
  {
   "cell_type": "code",
   "execution_count": 7,
   "metadata": {},
   "outputs": [],
   "source": [
    "synthetic_population.to_csv(\"sampled_BN_syn.csv\", index=False)"
   ]
  },
  {
   "cell_type": "code",
   "execution_count": null,
   "metadata": {},
   "outputs": [],
   "source": []
  }
 ],
 "metadata": {
  "kernelspec": {
   "display_name": "popsyn",
   "language": "python",
   "name": "python3"
  },
  "language_info": {
   "codemirror_mode": {
    "name": "ipython",
    "version": 3
   },
   "file_extension": ".py",
   "mimetype": "text/x-python",
   "name": "python",
   "nbconvert_exporter": "python",
   "pygments_lexer": "ipython3",
   "version": "3.9.18"
  }
 },
 "nbformat": 4,
 "nbformat_minor": 2
}
